{
 "cells": [
  {
   "cell_type": "code",
   "execution_count": null,
   "id": "19d9f420-f326-46e0-a001-7b1f009c309a",
   "metadata": {},
   "outputs": [],
   "source": [
    "import tensorflow as tf\n",
    "from jupyterUtils import *\n",
    "from sklearn.metrics import classification_report\n",
    "import pandas as pd\n",
    "import seaborn as sns"
   ]
  },
  {
   "cell_type": "code",
   "execution_count": null,
   "id": "a583e593-2540-4bf8-ba01-86c317cdac1b",
   "metadata": {},
   "outputs": [],
   "source": [
    "progress_bar = ProgressBar(message=\"Loading Model\")\n",
    "model_path   = '../models/10000_images_2_layers'\n",
    "model        = tf.keras.models.load_model(model_path)\n",
    "progress_bar.stop()\n",
    "model.summary()"
   ]
  },
  {
   "cell_type": "code",
   "execution_count": null,
   "id": "7fe99bb7-f449-4f96-8823-9d4940629a77",
   "metadata": {},
   "outputs": [],
   "source": [
    "progress_bar = ProgressBar(message=\"Creating Validaton Dataset\")\n",
    "\n",
    "validation_dataset = create_normalized_dataset(\n",
    "    dataset_dir      = '../data/images',\n",
    "    validation_split = 0.2,\n",
    "    subset           = \"validation\",\n",
    "    seed             = 123,\n",
    "    image_size       = (224, 224),\n",
    "    batch_size       = 32\n",
    ")\n",
    "progress_bar.stop()\n"
   ]
  },
  {
   "cell_type": "code",
   "execution_count": null,
   "id": "208446a5-2264-4d42-8503-9e4b562c03d0",
   "metadata": {},
   "outputs": [],
   "source": [
    "progress_bar = ProgressBar(message=\"Evaluating Validation Set\")\n",
    "\n",
    "true, predicted = evaluate_dataset(model, validation_dataset)\n",
    "\n",
    "progress_bar.stop()"
   ]
  },
  {
   "cell_type": "code",
   "execution_count": null,
   "id": "b404c43a-5dd6-45d1-938c-f602e3a02e6c",
   "metadata": {},
   "outputs": [],
   "source": [
    "image_path   = \"../data/images/moth/moth_9901.jpg\"\n",
    "progress_bar = ProgressBar(message=\"Classifying Image\")\n",
    "predict_image(model, image_path, validation_dataset.class_names, 80)\n",
    "progress_bar.stop()"
   ]
  },
  {
   "cell_type": "code",
   "execution_count": null,
   "id": "a3c09c9e-c09c-4478-b8ae-e31674b0771b",
   "metadata": {},
   "outputs": [],
   "source": [
    "cm = confusion_matrix(true, predicted)\n",
    "\n",
    "# Display the confusion matrix using a heatmap\n",
    "ConfusionMatrixDisplay(confusion_matrix=cm, display_labels=validation_dataset.class_names).plot(cmap=plt.cm.Blues)\n",
    "plt.title(\"Confusion Matrix\")\n",
    "plt.show()"
   ]
  },
  {
   "cell_type": "code",
   "execution_count": null,
   "id": "08d3fe60-9a5c-4f57-b372-14794f609ea9",
   "metadata": {},
   "outputs": [],
   "source": [
    "# Generate the classification report as a dictionary\n",
    "report = classification_report(true, predicted, target_names=validation_dataset.class_names, output_dict=True)\n",
    "\n",
    "# Convert to DataFrame for easier visualization\n",
    "report_df = pd.DataFrame(report).transpose()\n",
    "\n",
    "# Plot heatmap\n",
    "plt.figure(figsize=(10, 6))\n",
    "sns.heatmap(report_df.iloc[:-1, :-1], annot=True, cmap='YlGnBu', cbar=False)\n",
    "plt.title(\"Classification Report Heatmap\")\n",
    "plt.show()\n"
   ]
  },
  {
   "cell_type": "code",
   "execution_count": null,
   "id": "f617d2cb-91d9-45f6-9462-9848b8bc8b73",
   "metadata": {},
   "outputs": [],
   "source": []
  }
 ],
 "metadata": {
  "kernelspec": {
   "display_name": "Arthropod Classifier",
   "language": "python",
   "name": "env"
  },
  "language_info": {
   "codemirror_mode": {
    "name": "ipython",
    "version": 3
   },
   "file_extension": ".py",
   "mimetype": "text/x-python",
   "name": "python",
   "nbconvert_exporter": "python",
   "pygments_lexer": "ipython3",
   "version": "3.10.10"
  }
 },
 "nbformat": 4,
 "nbformat_minor": 5
}
